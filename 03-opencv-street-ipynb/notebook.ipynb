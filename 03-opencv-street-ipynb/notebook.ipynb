{
 "cells": [
  {
   "cell_type": "code",
   "execution_count": null,
   "metadata": {},
   "outputs": [],
   "source": [
    "import numpy as np\n",
    "import cv2\n",
    "import random\n",
    "from matplotlib import pyplot as plt"
   ]
  },
  {
   "cell_type": "markdown",
   "metadata": {},
   "source": [
    "Global parameters"
   ]
  },
  {
   "cell_type": "code",
   "execution_count": null,
   "metadata": {},
   "outputs": [],
   "source": [
    "random_seed = 1\n",
    "n_control_frames = 30"
   ]
  },
  {
   "cell_type": "code",
   "execution_count": null,
   "metadata": {},
   "outputs": [],
   "source": [
    "np.random.seed(random_seed)"
   ]
  },
  {
   "cell_type": "code",
   "execution_count": null,
   "metadata": {},
   "outputs": [],
   "source": [
    "#Routine to fix \n",
    "def fixColor(image):\n",
    "    return(cv2.cvtColor(image, cv2.COLOR_BGR2RGB))"
   ]
  },
  {
   "cell_type": "markdown",
   "metadata": {},
   "source": [
    "Code"
   ]
  },
  {
   "cell_type": "code",
   "execution_count": null,
   "metadata": {},
   "outputs": [],
   "source": [
    "video_stream = cv2.VideoCapture('office.mp4')"
   ]
  },
  {
   "cell_type": "code",
   "execution_count": null,
   "metadata": {},
   "outputs": [],
   "source": [
    "# Randomly select 30 frames\n",
    "frameIds = video_stream.get(cv2.CAP_PROP_FRAME_COUNT) * np.random.uniform(size=n_control_frames)\n",
    "# frameIds.sort()\n",
    "frameIds"
   ]
  },
  {
   "cell_type": "code",
   "execution_count": null,
   "metadata": {},
   "outputs": [],
   "source": [
    "# Store selected frames in an array\n",
    "frames = []\n",
    "for fid in frameIds:\n",
    "    video_stream.set(cv2.CAP_PROP_POS_FRAMES, fid)\n",
    "    ret, frame = video_stream.read()\n",
    "    frames.append(frame)\n",
    "    \n",
    "video_stream.release()"
   ]
  },
  {
   "cell_type": "code",
   "execution_count": null,
   "metadata": {},
   "outputs": [],
   "source": [
    "# Calculate the median along the time axis\n",
    "medianFrame = np.median(frames, axis=0).astype(dtype=np.uint8)\n",
    "plt.imshow(fixColor(medianFrame))"
   ]
  },
  {
   "cell_type": "code",
   "execution_count": null,
   "metadata": {},
   "outputs": [],
   "source": [
    "sample_frame=frames[0]\n",
    "plt.imshow(fixColor(sample_frame))"
   ]
  },
  {
   "cell_type": "code",
   "execution_count": null,
   "metadata": {},
   "outputs": [],
   "source": [
    "sample_frame.shape"
   ]
  },
  {
   "cell_type": "code",
   "execution_count": null,
   "metadata": {},
   "outputs": [],
   "source": [
    "grayMedianFrame = cv2.cvtColor(medianFrame, cv2.COLOR_BGR2GRAY)\n",
    "plt.imshow(fixColor(grayMedianFrame))"
   ]
  },
  {
   "cell_type": "code",
   "execution_count": null,
   "metadata": {},
   "outputs": [],
   "source": [
    "graySample=cv2.cvtColor(sample_frame, cv2.COLOR_BGR2GRAY)\n",
    "plt.imshow(fixColor(graySample))"
   ]
  },
  {
   "cell_type": "code",
   "execution_count": null,
   "metadata": {},
   "outputs": [],
   "source": [
    "graySample.shape"
   ]
  },
  {
   "cell_type": "code",
   "execution_count": null,
   "metadata": {},
   "outputs": [],
   "source": [
    "dframe = cv2.absdiff(graySample, grayMedianFrame)\n",
    "plt.imshow(fixColor(dframe))"
   ]
  },
  {
   "cell_type": "code",
   "execution_count": null,
   "metadata": {},
   "outputs": [],
   "source": [
    "# blurred = cv2.GaussianBlur(dframe, (11,11), 0)\n",
    "# blurred = cv2.GaussianBlur(dframe, (21,21), 0)\n",
    "# blurred = cv2.GaussianBlur(dframe, (31,31), 0)\n",
    "# blurred = cv2.GaussianBlur(dframe, (41,41), 0)\n",
    "# blurred = cv2.GaussianBlur(dframe, (51,51), 0)\n",
    "# blurred = cv2.GaussianBlur(dframe, (61,61), 0)\n",
    "blurred = cv2.GaussianBlur(dframe, (71,71), 0)\n",
    "plt.imshow(fixColor(blurred))"
   ]
  },
  {
   "cell_type": "code",
   "execution_count": null,
   "metadata": {},
   "outputs": [],
   "source": [
    "plt.hist(blurred.ravel(),256,[0,50]); plt.show()"
   ]
  },
  {
   "cell_type": "code",
   "execution_count": null,
   "metadata": {},
   "outputs": [],
   "source": [
    "ret, tframe= cv2.threshold(blurred,5,255,cv2.THRESH_TOZERO)\n",
    "plt.imshow(fixColor(tframe))"
   ]
  },
  {
   "cell_type": "code",
   "execution_count": null,
   "metadata": {},
   "outputs": [],
   "source": [
    "(cnts, _) = cv2.findContours(tframe.copy(), cv2.RETR_EXTERNAL, \n",
    "                             cv2.CHAIN_APPROX_SIMPLE)\n",
    "len(cnts)"
   ]
  },
  {
   "cell_type": "code",
   "execution_count": null,
   "metadata": {},
   "outputs": [],
   "source": [
    "# _"
   ]
  },
  {
   "cell_type": "code",
   "execution_count": null,
   "metadata": {},
   "outputs": [],
   "source": [
    "for cnt in cnts:\n",
    "    x,y,w,h = cv2.boundingRect(cnt)\n",
    "    if y > 200:  #Disregard item that are the top of the picture\n",
    "        if h > 50 and h > 50:\n",
    "            cv2.rectangle(sample_frame,(x,y),(x+w,y+h),(0,255,0),2)\n",
    "\n",
    "plt.imshow(fixColor(sample_frame))"
   ]
  },
  {
   "cell_type": "code",
   "execution_count": null,
   "metadata": {},
   "outputs": [],
   "source": [
    "cv2.imwrite(f'sample_frame.{random_seed}.png',sample_frame)"
   ]
  }
 ],
 "metadata": {
  "kernelspec": {
   "display_name": "Python 3.10.6 ('office_webcam')",
   "language": "python",
   "name": "python3"
  },
  "language_info": {
   "codemirror_mode": {
    "name": "ipython",
    "version": 3
   },
   "file_extension": ".py",
   "mimetype": "text/x-python",
   "name": "python",
   "nbconvert_exporter": "python",
   "pygments_lexer": "ipython3",
   "version": "3.10.6"
  },
  "orig_nbformat": 4,
  "vscode": {
   "interpreter": {
    "hash": "4df546e2623a74e22afc041c1f079d6f9356fb270a61775291a851a2501c00c2"
   }
  }
 },
 "nbformat": 4,
 "nbformat_minor": 2
}
